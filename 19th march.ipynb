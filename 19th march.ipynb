{
 "cells": [
  {
   "cell_type": "markdown",
   "id": "1bbdf692-2d02-4b60-9fec-bdd16f199c27",
   "metadata": {},
   "source": [
    "QTS.1\n",
    "\n",
    "**Min-Max Scaling:**\n",
    "- **Definition:** Min-Max scaling is a data preprocessing technique \n",
    "that transforms numeric features to a specific range, usually [0, 1]. \n",
    "It involves scaling each feature based on its minimum and maximum values.\n",
    "\n",
    "**Formula:**\n",
    "\\[ X_{\\text{new}} = \\frac{X - X_{\\text{min}}}{X_{\\text{max}} - X_{\\text{min}}} \\]\n",
    "\n",
    "where \\(X\\) is the original value, \\(X_{\\text{min}}\\) is the minimum value \n",
    "in the feature, and \\(X_{\\text{max}}\\) is the maximum value.\n",
    "\n",
    "**Example:**\n",
    "- **Original Data:**\n",
    "  - Feature \\(X\\) has values ranging from 10 to 50.\n",
    "- **Min-Max Scaling:**\n",
    "  - Applying Min-Max scaling to feature \\(X\\):\n",
    "    \\[ X_{\\text{new}} = \\frac{X - 10}{50 - 10} \\]\n",
    "  - For example, if \\(X = 30\\):\n",
    "    \\[ X_{\\text{new}} = \\frac{30 - 10}{50 - 10} = \\frac{20}{40} = 0.5 \\]\n",
    "- **Result:**\n",
    "  - The scaled value for \\(X = 30\\) is 0.5, and all values are transformed to the [0, 1] range.\n",
    "\n",
    "Min-Max scaling is useful for algorithms sensitive to the scale of features, ensuring \n",
    "that all features contribute equally to the model's learning process."
   ]
  },
  {
   "cell_type": "markdown",
   "id": "b2849696-7b1f-44cf-a313-1299643a7f9c",
   "metadata": {},
   "source": [
    "QTS.2\n",
    "\n",
    "**Unit Vector (Normalization) Technique:**\n",
    "- **Definition:** The Unit Vector technique, also known as normalization, \n",
    "scales each feature so that the entire feature vector has a Euclidean norm of 1. \n",
    "It involves dividing each feature by the Euclidean norm of the feature vector.\n",
    "\n",
    "**Formula:**\n",
    "\\[ X_{\\text{new}} = \\frac{X}{\\|X\\|} \\]\n",
    "\n",
    "where \\(X\\) is the original feature vector, and \\(\\|X\\|\\) is the Euclidean norm of the vector.\n",
    "\n",
    "**Example:**\n",
    "- **Original Data:**\n",
    "  - Feature vector \\(X = [3, 4]\\).\n",
    "- **Normalization:**\n",
    "  - Applying Unit Vector technique:\n",
    "    \\[ \\|X\\| = \\sqrt{3^2 + 4^2} = 5 \\]\n",
    "    \\[ X_{\\text{new}} = \\frac{[3, 4]}{5} = \\left[\\frac{3}{5}, \\frac{4}{5}\\right] \\]\n",
    "- **Result:**\n",
    "  - The normalized feature vector is \\(\\left[\\frac{3}{5}, \\frac{4}{5}\\right]\\), and its Euclidean norm is 1.\n",
    "\n",
    "**Difference from Min-Max Scaling:**\n",
    "- **Min-Max Scaling:** Transforms features to a specific range (e.g., [0, 1]).\n",
    "- **Unit Vector Technique:** Ensures the entire feature vector has a Euclidean norm of 1.\n",
    "\n",
    "While Min-Max scaling constrains features to a predetermined range, the Unit Vector\n",
    "technique normalizes the entire feature vector to have a consistent scale, which \n",
    "can be useful in scenarios where the direction of the vector is more important than its magnitude."
   ]
  },
  {
   "cell_type": "markdown",
   "id": "490001fc-6f93-4674-ad8a-9297206d66cf",
   "metadata": {},
   "source": [
    "QTS.3"
   ]
  },
  {
   "cell_type": "markdown",
   "id": "9b8a9584-8622-408f-bbfc-98a0be1edda2",
   "metadata": {},
   "source": [
    "**PCA (Principal Component Analysis):**\n",
    "- **Definition:** PCA is a dimensionality reduction technique that transforms\n",
    "high-dimensional data into a new coordinate system, \n",
    "where the axes are the principal components—linear combinations of the original\n",
    "features. The principal components are ordered by the amount of variance they capture.\n",
    "\n",
    "**Steps in PCA:**\n",
    "1. **Center the Data:** Subtract the mean of each feature to center the data.\n",
    "2. **Calculate Covariance Matrix:** Compute the covariance matrix of the centered data.\n",
    "3. **Eigenvalue Decomposition:** Find the eigenvectors and eigenvalues of the covariance matrix.\n",
    "4. **Select Principal Components:** Order the eigenvectors by their corresponding \n",
    "eigenvalues and choose the top \\(k\\) eigenvectors as the principal components.\n",
    "5. **Transform Data:** Project the original data onto the selected principal\n",
    "components to obtain the reduced-dimensional representation.\n",
    "\n",
    "**Example:**\n",
    "- **Original Data:**\n",
    "  - \\(X\\) with two features: \\(\\begin{bmatrix}1 & 2 \\\\ 3 & 4 \\\\ 5 & 6\\end{bmatrix}\\).\n",
    "- **PCA:**\n",
    "  - Apply PCA to reduce to one dimension (\\(k=1\\).\n",
    "  - Find the principal component (eigenvector) and project the data.\n",
    "- **Result:**\n",
    "  - The reduced-dimensional representation is \\(\\begin{bmatrix}-2.828 \\\\ 0 \\\\ 2.828\\end{bmatrix}\\), \n",
    "    capturing the most significant variation in the data along the principal component.\n",
    "\n",
    "PCA is valuable for reducing dimensionality while retaining as much of the original data's\n",
    "variance as possible, making it useful in data compression, noise reduction, and feature extraction."
   ]
  },
  {
   "cell_type": "markdown",
   "id": "fdbb8126-df0f-4c71-b651-75043da41042",
   "metadata": {},
   "source": [
    "QTS.4"
   ]
  },
  {
   "cell_type": "markdown",
   "id": "c4f8d6f9-a963-48f0-b516-77e5623d0a6e",
   "metadata": {},
   "source": [
    "**Relationship between PCA and Feature Extraction:**\n",
    "- **PCA for Feature Extraction:** PCA is a dimensionality reduction \n",
    "technique that can be used for feature extraction. \n",
    "In the context of PCA, features are transformed into a new set of features\n",
    "(principal components) that capture the most significant variance in the data.\n",
    "\n",
    "**Using PCA for Feature Extraction:**\n",
    "1. **Compute Principal Components:** Identify the principal components (eigenvectors)\n",
    "and their corresponding eigenvalues through PCA.\n",
    "2. **Select Top Principal Components:** Choose the top \\(k\\) principal components \n",
    "based on their contribution to the total variance.\n",
    "3. **Transform Data:** Project the original data onto the selected principal\n",
    "components to obtain the reduced-dimensional representation.\n",
    "\n",
    "**Example:**\n",
    "- **Original Data:**\n",
    "  - \\(X\\) with three features: \\(\\begin{bmatrix}1 & 2 & 3 \\\\ 4 & 5 & 6 \\\\ 7 & 8 & 9\\end{bmatrix}\\).\n",
    "- **PCA for Feature Extraction:**\n",
    "  - Apply PCA to reduce to two dimensions (\\(k=2\\)).\n",
    "  - Find the top two principal components and project the data.\n",
    "- **Result:**\n",
    "  - The reduced-dimensional representation is\n",
    "    \\(\\begin{bmatrix}-1.224 & 0 & 1.224 \\\\ -0.000 & 0 & 0.000 \\\\ 1.224 & 0 & -1.224\\end{bmatrix}\\),\n",
    "    capturing the most significant variation in the data along the selected principal components.\n",
    "\n",
    "In this example, PCA is used for feature extraction by transforming the original\n",
    "features into a reduced set of features that still retain the essential information in the data."
   ]
  },
  {
   "cell_type": "markdown",
   "id": "7beee6b6-c21f-430e-ad54-ae2f5291ca99",
   "metadata": {},
   "source": [
    "QTS.5"
   ]
  },
  {
   "cell_type": "markdown",
   "id": "d91e69b7-192e-4f04-8c63-3d66f9c28ae2",
   "metadata": {},
   "source": [
    "**Using Min-Max Scaling for Data Preprocessing in a Recommendation System:**\n",
    "\n",
    "1. **Understand the Data:**\n",
    "   - **Analysis:** Examine the distribution and ranges of the features, such as price,\n",
    "    rating, and delivery time.\n",
    "\n",
    "2. **Apply Min-Max Scaling:**\n",
    "   - **Formula:** For each feature \\(X\\):\n",
    "     \\[ X_{\\text{scaled}} = \\frac{X - X_{\\text{min}}}{X_{\\text{max}} - X_{\\text{min}}} \\]\n",
    "   - **Procedure:** Subtract the minimum value of each feature and divide by the range \n",
    "(difference between maximum and minimum values).\n",
    "\n",
    "3. **Transform Features:**\n",
    "   - **Range:** After Min-Max scaling, all features will be transformed to the range [0, 1].\n",
    "   - **Scaling:** Values are scaled proportionally, maintaining the relationships between \n",
    "different data points.\n",
    "\n",
    "4. **Benefits of Min-Max Scaling:**\n",
    "   - **Consistency:** Ensures that all features contribute equally, avoiding dominance by\n",
    "    features with larger scales (e.g., price).\n",
    "   - **Algorithms:** Useful for algorithms sensitive to feature scales, such as\n",
    "distance-based methods in recommendation systems.\n",
    "\n",
    "5. **Implementation:**\n",
    "   - **Code:** In Python, libraries like Scikit-Learn provide Min-Max scaling through the `MinMaxScaler`:\n",
    "\n",
    "     ```python\n",
    "     from sklearn.preprocessing import MinMaxScaler\n",
    "\n",
    "     # Assuming 'data' is your dataset with columns like price, rating, delivery time\n",
    "     scaler = MinMaxScaler()\n",
    "     scaled_data = scaler.fit_transform(data[['price', 'rating', 'delivery_time']])\n",
    "     ```\n",
    "\n",
    "By applying Min-Max scaling, you ensure that the features in your recommendation system \n",
    "have a consistent scale, making the data suitable for algorithms that rely on distance\n",
    "metrics and improving the model's ability to capture patterns across different feature ranges."
   ]
  },
  {
   "cell_type": "markdown",
   "id": "d4654c6f-c161-4f55-8f65-1d6edea42f7a",
   "metadata": {},
   "source": [
    "QTS.6\n",
    "\n",
    "**Using PCA for Dimensionality Reduction in Predicting Stock Prices:**\n",
    "\n",
    "1. **Understand the Data:**\n",
    "   - **Features:** Examine the features, including company financial data and market trends,\n",
    "    and assess if there's multicollinearity or redundancy.\n",
    "\n",
    "2. **Standardize the Data:**\n",
    "   - **Preprocessing:** Standardize the features to have zero mean and unit variance. \n",
    "    PCA is sensitive to the scale of the features.\n",
    "\n",
    "3. **Apply PCA:**\n",
    "   - **Compute Covariance Matrix:** Calculate the covariance matrix of the standardized feature matrix.\n",
    "   - **Eigenvalue Decomposition:** Find the eigenvectors and eigenvalues of the covariance matrix.\n",
    "   - **Select Principal Components:** Choose the top \\(k\\) principal components based on their \n",
    "    corresponding eigenvalues, which represent the amount of variance each component captures.\n",
    "\n",
    "4. **Transform Data:**\n",
    "   - **Projection:** Project the original feature matrix onto the selected principal components \n",
    "    to obtain a reduced-dimensional representation.\n",
    "\n",
    "5. **Determine Number of Components:**\n",
    "   - **Scree Plot or Cumulative Variance:** Decide the number of principal components to retain,\n",
    "    considering the cumulative variance they capture.\n",
    "\n",
    "6. **Implement PCA:**\n",
    "   - **Code Implementation:** In Python, you can use libraries like Scikit-Learn for PCA:\n",
    "\n",
    "     ```python\n",
    "     from sklearn.decomposition import PCA\n",
    "     from sklearn.preprocessing import StandardScaler\n",
    "\n",
    "     # Assuming 'data' is your dataset with features\n",
    "     scaler = StandardScaler()\n",
    "     standardized_data = scaler.fit_transform(data)\n",
    "\n",
    "     pca = PCA(n_components=k)  # Choose the desired number of components, 'k'\n",
    "     reduced_data = pca.fit_transform(standardized_data)\n",
    "     ```\n",
    "\n",
    "7. **Benefits of PCA:**\n",
    "   - **Dimensionality Reduction:** Reduces the number of features while retaining the \n",
    "    most significant information.\n",
    "   - **Mitigates Multicollinearity:** Addresses issues of multicollinearity by transforming\n",
    "the original features into a set of uncorrelated principal components.\n",
    "\n",
    "8. **Modeling:**\n",
    "   - **Train Models:** Use the reduced-dimensional data to train your predictive model \n",
    "    for stock price prediction.\n",
    "\n",
    "By applying PCA, you can potentially enhance the efficiency of your stock price prediction\n",
    "model by focusing on the most informative dimensions and reducing computational complexity."
   ]
  },
  {
   "cell_type": "markdown",
   "id": "84c8aca3-1250-4c3e-a439-2db4bd03a8d0",
   "metadata": {},
   "source": [
    "QTS.7"
   ]
  },
  {
   "cell_type": "code",
   "execution_count": 3,
   "id": "40648cc3-b2f0-42b2-80bf-b3b46495c770",
   "metadata": {},
   "outputs": [
    {
     "name": "stdout",
     "output_type": "stream",
     "text": [
      "Original Data: [ 1  5 10 15 20]\n",
      "Min-Max Scaled Data (Range -1 to 1): [-1.         -0.57894737 -0.05263158  0.47368421  1.        ]\n"
     ]
    }
   ],
   "source": [
    "import numpy as np\n",
    "\n",
    "# Original dataset\n",
    "data = np.array([1, 5, 10, 15, 20])\n",
    "\n",
    "# Min-Max Scaling to the range of -1 to 1\n",
    "min_value = np.min(data)\n",
    "max_value = np.max(data)\n",
    "\n",
    "scaled_data = -1 + 2 * (data - min_value) / (max_value - min_value)\n",
    "\n",
    "print(\"Original Data:\", data)\n",
    "print(\"Min-Max Scaled Data (Range -1 to 1):\", scaled_data)"
   ]
  },
  {
   "cell_type": "markdown",
   "id": "46f44e2f-2989-456f-8c1d-ff5974b43386",
   "metadata": {},
   "source": [
    "QTS.8"
   ]
  },
  {
   "cell_type": "code",
   "execution_count": 24,
   "id": "f261fece-a6b0-44de-9d18-8087e27f1de5",
   "metadata": {},
   "outputs": [
    {
     "data": {
      "image/png": "[encoded data removed]",
      "text/plain": [
       "<Figure size 640x480 with 1 Axes>"
      ]
     },
     "metadata": {},
     "output_type": "display_data"
    },
    {
     "name": "stdout",
     "output_type": "stream",
     "text": [
      "Number of principal components to retain: 2\n"
     ]
    }
   ],
   "source": [
    "import numpy as np\n",
    "from sklearn.decomposition import PCA\n",
    "from sklearn.preprocessing import StandardScaler\n",
    "\n",
    "height= [5,4,7,6,9,2]\n",
    "weight= [50,45,89,63,78,53]\n",
    "age= [23,41,74,52,65,23]\n",
    "gender= [0,1,1,0,1,1]\n",
    "bloodpressure= [104,520,74,400,560,410]\n",
    "\n",
    "# Assuming 'data' is your dataset with features\n",
    "data = [height, weight, age, gender, bloodpressure] # Your feature matrix\n",
    "\n",
    "# Standardize the data\n",
    "scaler = StandardScaler()\n",
    "standardized_data = scaler.fit_transform(data)\n",
    "\n",
    "# Apply PCA\n",
    "pca = PCA()\n",
    "pca.fit(standardized_data)\n",
    "\n",
    "# Plot the explained variance ratio\n",
    "import matplotlib.pyplot as plt\n",
    "\n",
    "plt.plot(np.cumsum(pca.explained_variance_ratio_))\n",
    "plt.xlabel('Number of Components')\n",
    "plt.ylabel('Cumulative Explained Variance')\n",
    "plt.show()\n",
    "\n",
    "\n",
    "cumulative_variance = 0\n",
    "num_components = 0\n",
    "\n",
    "while cumulative_variance < 0.95:\n",
    "    cumulative_variance += pca.explained_variance_ratio_[num_components]\n",
    "    num_components += 1\n",
    "\n",
    "print(\"Number of principal components to retain:\", num_components)"
   ]
  },
  {
   "cell_type": "code",
   "execution_count": null,
   "id": "4225d8e9-2da7-4922-933d-c7f14bc542cd",
   "metadata": {},
   "outputs": [],
   "source": []
  }
 ],
 "metadata": {
  "kernelspec": {
   "display_name": "Python 3 (ipykernel)",
   "language": "python",
   "name": "python3"
  },
  "language_info": {
   "codemirror_mode": {
    "name": "ipython",
    "version": 3
   },
   "file_extension": ".py",
   "mimetype": "text/x-python",
   "name": "python",
   "nbconvert_exporter": "python",
   "pygments_lexer": "ipython3",
   "version": "3.10.8"
  }
 },
 "nbformat": 4,
 "nbformat_minor": 5
}
